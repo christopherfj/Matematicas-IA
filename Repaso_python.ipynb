{
  "nbformat": 4,
  "nbformat_minor": 0,
  "metadata": {
    "colab": {
      "provenance": [],
      "authorship_tag": "ABX9TyM7P5O6kPGwsirogHNlOUP3",
      "include_colab_link": true
    },
    "kernelspec": {
      "name": "python3",
      "display_name": "Python 3"
    },
    "language_info": {
      "name": "python"
    }
  },
  "cells": [
    {
      "cell_type": "markdown",
      "metadata": {
        "id": "view-in-github",
        "colab_type": "text"
      },
      "source": [
        "<a href=\"https://colab.research.google.com/github/christopherfj/Matematicas-IA/blob/main/Repaso_python.ipynb\" target=\"_parent\"><img src=\"https://colab.research.google.com/assets/colab-badge.svg\" alt=\"Open In Colab\"/></a>"
      ]
    },
    {
      "cell_type": "code",
      "execution_count": 1,
      "metadata": {
        "colab": {
          "base_uri": "https://localhost:8080/"
        },
        "id": "gmL2dLIwpIZm",
        "outputId": "0c8d081b-c877-490b-ffa2-5f95a9dfd449"
      },
      "outputs": [
        {
          "output_type": "stream",
          "name": "stdout",
          "text": [
            "hola mundo\n"
          ]
        }
      ],
      "source": [
        "# 1. Mostrar un mensaje “hola mundo”\n",
        "print(\"hola mundo\")"
      ]
    },
    {
      "cell_type": "code",
      "source": [
        "# 2. Calcular el área de un círculo. Considerar π = 3.14\n",
        "pi = 3.14\n",
        "r = float( input(\"Radio: \") )\n",
        "a = pi*r**2\n",
        "print(\"Area\", a)"
      ],
      "metadata": {
        "colab": {
          "base_uri": "https://localhost:8080/"
        },
        "id": "2_HMQEB1phQf",
        "outputId": "1ea6920b-e384-4eed-a9dc-8ec98337f3a9"
      },
      "execution_count": 2,
      "outputs": [
        {
          "output_type": "stream",
          "name": "stdout",
          "text": [
            "Radio: 2\n",
            "Area 12.56\n"
          ]
        }
      ]
    },
    {
      "cell_type": "code",
      "source": [
        "#3. Obtener el mayor entre 2 números enteros (distintos)\n",
        "n1 = int( input(\"Ingrese N1: \") )\n",
        "n2 = int( input(\"Ingrese N2: \") )\n",
        "if n1>n2:\n",
        "    print(n1, \"mayor que\", n2)\n",
        "else:\n",
        "    print(n2, \"es menor que\", n1)"
      ],
      "metadata": {
        "colab": {
          "base_uri": "https://localhost:8080/"
        },
        "id": "j6G4AKV8p46I",
        "outputId": "0196a28e-454b-4751-f5f7-ebab4e6eea58"
      },
      "execution_count": 3,
      "outputs": [
        {
          "output_type": "stream",
          "name": "stdout",
          "text": [
            "Ingrese N1: 5\n",
            "Ingrese N2: 1\n",
            "5 mayor que 1\n"
          ]
        }
      ]
    },
    {
      "cell_type": "code",
      "source": [
        "#4. Identificar si un número es menor, igual o mayor que cero\n",
        "n = float( input(\"Ingrese N: \") )\n",
        "if n>0:\n",
        "    print(n1, \"es mayor que cero\")\n",
        "elif n<0:\n",
        "    print(n, \"es menor que cero\")\n",
        "else:\n",
        "    print(n1, \"es igual a cero\")"
      ],
      "metadata": {
        "colab": {
          "base_uri": "https://localhost:8080/"
        },
        "id": "ySu1B2enqS2u",
        "outputId": "6ab04ddb-537a-4caa-c7d3-c8c7fbca8a3a"
      },
      "execution_count": 4,
      "outputs": [
        {
          "output_type": "stream",
          "name": "stdout",
          "text": [
            "Ingrese N: -1\n",
            "-1.0 es menor que cero\n"
          ]
        }
      ]
    },
    {
      "cell_type": "code",
      "source": [
        "#5. Sumar todos los números pares de un vector de tamaño n\n",
        "v = [10,4,10,7,3]\n",
        "s = 0\n",
        "for i in range(len(v)):\n",
        "    if (v[i]%2)==0:\n",
        "        s = s+v[i]\n",
        "print(\"Posible solucion 1:\", s)\n",
        "s = 0\n",
        "i = 0\n",
        "while i<len(v):\n",
        "    if (v[i]%2)==0:\n",
        "        s = s+v[i]\n",
        "    i = i+1\n",
        "print(\"Posible solucion 2:\", s)\n",
        "s = 0\n",
        "for i in v:\n",
        "    if (i%2)==0:\n",
        "        s = s+i\n",
        "print(\"Posible solucion 3:\", s)"
      ],
      "metadata": {
        "colab": {
          "base_uri": "https://localhost:8080/"
        },
        "id": "tp1XbDNVrJop",
        "outputId": "23eef2ef-e2d3-44cc-f6dd-2ec916b29fb5"
      },
      "execution_count": 5,
      "outputs": [
        {
          "output_type": "stream",
          "name": "stdout",
          "text": [
            "Posible solucion 1: 24\n",
            "Posible solucion 2: 24\n",
            "Posible solucion 3: 24\n"
          ]
        }
      ]
    }
  ]
}