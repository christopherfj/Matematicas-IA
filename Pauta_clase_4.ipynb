{
  "nbformat": 4,
  "nbformat_minor": 0,
  "metadata": {
    "colab": {
      "provenance": [],
      "authorship_tag": "ABX9TyPJ1MEscoyMVq64zSH8Tsip"
    },
    "kernelspec": {
      "name": "python3",
      "display_name": "Python 3"
    },
    "language_info": {
      "name": "python"
    }
  },
  "cells": [
    {
      "cell_type": "code",
      "source": [
        "import numpy as np\n",
        "A = np.matrix( [[4,4], [2,-4]] )\n",
        "b = np.matrix([5,1]).T\n",
        "#np.linalg.inv(A)*b\n",
        "A.I*b"
      ],
      "metadata": {
        "colab": {
          "base_uri": "https://localhost:8080/"
        },
        "id": "52xcEACxIrQT",
        "outputId": "b7bf39fa-21d8-49a5-b646-74b104529d3f"
      },
      "execution_count": null,
      "outputs": [
        {
          "output_type": "execute_result",
          "data": {
            "text/plain": [
              "matrix([[1.  ],\n",
              "        [0.25]])"
            ]
          },
          "metadata": {},
          "execution_count": 1
        }
      ]
    },
    {
      "cell_type": "code",
      "source": [
        "import numpy as np\n",
        "\n",
        "# Definir el vector\n",
        "x = np.array([3, -4, 5])\n",
        "\n",
        "# Norma L1\n",
        "norm_L1 = np.sum(np.abs(x))\n",
        "print(\"Norma L1:\", norm_L1)\n",
        "\n",
        "# Norma L2\n",
        "norm_L2 = np.linalg.norm(x)\n",
        "print(\"Norma L2:\", norm_L2)\n",
        "\n",
        "# Norma Linf\n",
        "norm_Linf = np.max(np.abs(x))\n",
        "print(\"Norma Linf:\", norm_Linf)"
      ],
      "metadata": {
        "colab": {
          "base_uri": "https://localhost:8080/"
        },
        "id": "KA975UtoKuVt",
        "outputId": "a03b2a68-9b70-4c54-b617-f1a79b51cb51"
      },
      "execution_count": null,
      "outputs": [
        {
          "output_type": "stream",
          "name": "stdout",
          "text": [
            "Norma L1: 12\n",
            "Norma L2: 7.0710678118654755\n",
            "Norma Linf: 5\n"
          ]
        }
      ]
    },
    {
      "cell_type": "code",
      "source": [
        "import numpy as np\n",
        "from matplotlib import pylab\n",
        "\n",
        "R = np.array([[20,100,5], [200,40,30], [50,100,20]])\n",
        "G = np.array([[40,60,200], [80,10,0], [0,50,100]])\n",
        "B = np.array([[100,40,30], [0,60,20], [50,200,20]])\n",
        "GRIS = 0.4*R+0.2*G+0.4*B\n",
        "print('Gris:\\n', GRIS)\n",
        "TH = 90\n",
        "BIN = (GRIS>TH).astype(int)*255\n",
        "print('Binaria:\\n', BIN)\n",
        "\n",
        "valores = BIN.ravel().tolist()\n",
        "fig = pylab.figure(1)\n",
        "x = [0,255]\n",
        "y = [ valores.count(0), valores.count(255) ]\n",
        "pylab.bar(x,y)\n",
        "pylab.title('Histograma')\n",
        "pylab.xlabel('Intensidad de gris')\n",
        "pylab.ylabel('Frecuencia')\n",
        "pylab.xlim([-10,265])\n",
        "pylab.grid(True)\n",
        "pylab.show()"
      ],
      "metadata": {
        "colab": {
          "base_uri": "https://localhost:8080/",
          "height": 615
        },
        "id": "RqbVBofELmmm",
        "outputId": "01a34203-4f84-48e8-f0f6-9134682ab156"
      },
      "execution_count": null,
      "outputs": [
        {
          "output_type": "stream",
          "name": "stdout",
          "text": [
            "Gris:\n",
            " [[ 56.  68.  54.]\n",
            " [ 96.  42.  20.]\n",
            " [ 40. 130.  36.]]\n",
            "Binaria:\n",
            " [[  0   0   0]\n",
            " [255   0   0]\n",
            " [  0 255   0]]\n"
          ]
        },
        {
          "output_type": "display_data",
          "data": {
            "text/plain": [
              "<Figure size 640x480 with 1 Axes>"
            ],
            "image/png": "[encoded data removed]"
          },
          "metadata": {}
        }
      ]
    }
  ]
}