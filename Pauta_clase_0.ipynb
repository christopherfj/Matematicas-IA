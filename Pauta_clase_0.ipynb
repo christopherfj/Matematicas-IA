{
  "nbformat": 4,
  "nbformat_minor": 0,
  "metadata": {
    "colab": {
      "provenance": [],
      "authorship_tag": "ABX9TyM71V0fBUmzG4hn+WrKi1ft"
    },
    "kernelspec": {
      "name": "python3",
      "display_name": "Python 3"
    },
    "language_info": {
      "name": "python"
    }
  },
  "cells": [
    {
      "cell_type": "code",
      "execution_count": null,
      "metadata": {
        "colab": {
          "base_uri": "https://localhost:8080/"
        },
        "id": "HZ6aEVphvuri",
        "outputId": "9689af7f-d081-400d-9d0a-7ae18bdcee35"
      },
      "outputs": [
        {
          "output_type": "stream",
          "name": "stdout",
          "text": [
            "Nombre: Christopher\n",
            "Edad: 15\n",
            "Hola Christopher tienes 15\n"
          ]
        }
      ],
      "source": [
        "nombre = input(\"Nombre: \")\n",
        "edad = int(input(\"Edad: \"))\n",
        "print(f\"Hola {nombre} tienes {edad}\")"
      ]
    },
    {
      "cell_type": "code",
      "source": [
        "type(edad)"
      ],
      "metadata": {
        "colab": {
          "base_uri": "https://localhost:8080/"
        },
        "id": "TkDPeCkWw5Hy",
        "outputId": "5d80718a-742d-4366-bc25-e090293ac78f"
      },
      "execution_count": null,
      "outputs": [
        {
          "output_type": "execute_result",
          "data": {
            "text/plain": [
              "str"
            ]
          },
          "metadata": {},
          "execution_count": 8
        }
      ]
    },
    {
      "cell_type": "code",
      "source": [
        "var_str = \"Hola\"\n",
        "var_str.replace(\"H\", \"h\")"
      ],
      "metadata": {
        "colab": {
          "base_uri": "https://localhost:8080/",
          "height": 35
        },
        "id": "Xf0cu-vU1b7W",
        "outputId": "b95ce895-a56a-482f-ade5-ee07d3c888b1"
      },
      "execution_count": null,
      "outputs": [
        {
          "output_type": "execute_result",
          "data": {
            "text/plain": [
              "'hola'"
            ],
            "application/vnd.google.colaboratory.intrinsic+json": {
              "type": "string"
            }
          },
          "metadata": {},
          "execution_count": 19
        }
      ]
    },
    {
      "cell_type": "code",
      "source": [
        "lista = []\n",
        "lista.append(1)\n",
        "lista.append(2)\n",
        "lista.append(3)\n",
        "lista.extend([1,2,3])\n",
        "#lista.sort()\n",
        "lista = sorted(lista)\n",
        "list(set(lista))"
      ],
      "metadata": {
        "colab": {
          "base_uri": "https://localhost:8080/"
        },
        "id": "UnPDpdE_3IxM",
        "outputId": "05cfb9a4-87fb-462c-eb7e-6771e270708e"
      },
      "execution_count": null,
      "outputs": [
        {
          "output_type": "execute_result",
          "data": {
            "text/plain": [
              "[1, 2, 3]"
            ]
          },
          "metadata": {},
          "execution_count": 46
        }
      ]
    },
    {
      "cell_type": "code",
      "source": [
        "lista = [\"hola\", \"doctorado\", \"ubb\", \"concepcion\"]\n",
        "sorted(lista, key=lambda x:len(x), reverse=True)"
      ],
      "metadata": {
        "colab": {
          "base_uri": "https://localhost:8080/"
        },
        "id": "lfbZIrPf6FQ3",
        "outputId": "9d390097-ee0e-43bc-9148-80357677061c"
      },
      "execution_count": null,
      "outputs": [
        {
          "output_type": "execute_result",
          "data": {
            "text/plain": [
              "['concepcion', 'doctorado', 'hola', 'ubb']"
            ]
          },
          "metadata": {},
          "execution_count": 43
        }
      ]
    },
    {
      "cell_type": "code",
      "source": [
        "d = {0: \"udec\", 1:\"hola\", 2:\"doctorado\", 3:\"ubb\", 4:\"concepcion\"}\n",
        "d.items()"
      ],
      "metadata": {
        "colab": {
          "base_uri": "https://localhost:8080/"
        },
        "id": "G_g3bWgO8ZBr",
        "outputId": "65bde4d0-6083-4787-8c44-d7428db28cfe"
      },
      "execution_count": null,
      "outputs": [
        {
          "output_type": "execute_result",
          "data": {
            "text/plain": [
              "dict_items([(0, 'udec'), (1, 'hola'), (2, 'doctorado'), (3, 'ubb'), (4, 'concepcion')])"
            ]
          },
          "metadata": {},
          "execution_count": 50
        }
      ]
    },
    {
      "cell_type": "code",
      "source": [
        "paises = [\"Brasil\", \"Argentina\", \"Chile\"]\n",
        "capitales = [\"Brasilia\", \"Bs.Aires\", \"Stgo\"]\n",
        "\n",
        "\n",
        "#for pais in paises:\n",
        "#    print(pais)\n",
        "\n",
        "for i in range(len(paises)):\n",
        "    print(paises[i])\n",
        "    if paises[i]==\"Argentina\":\n",
        "        break\n"
      ],
      "metadata": {
        "colab": {
          "base_uri": "https://localhost:8080/"
        },
        "id": "jxoD72X08n2S",
        "outputId": "dcfdd140-c481-4275-ae34-8ed516932261"
      },
      "execution_count": null,
      "outputs": [
        {
          "output_type": "stream",
          "name": "stdout",
          "text": [
            "Brasil\n",
            "Argentina\n"
          ]
        }
      ]
    }
  ]
}