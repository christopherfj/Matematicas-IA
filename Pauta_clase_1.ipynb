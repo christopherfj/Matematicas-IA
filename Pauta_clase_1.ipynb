{
  "nbformat": 4,
  "nbformat_minor": 0,
  "metadata": {
    "colab": {
      "provenance": [],
      "authorship_tag": "ABX9TyOcRkhdSAyPBGwrLg4QxT8+"
    },
    "kernelspec": {
      "name": "python3",
      "display_name": "Python 3"
    },
    "language_info": {
      "name": "python"
    }
  },
  "cells": [
    {
      "cell_type": "code",
      "source": [
        "#P1\n",
        "print(\"hola mundo\")"
      ],
      "metadata": {
        "colab": {
          "base_uri": "https://localhost:8080/"
        },
        "id": "f8hSEA-KC3Xm",
        "outputId": "c8bd9fde-e8a7-4e50-8d4c-2839f5b7da1c"
      },
      "execution_count": 1,
      "outputs": [
        {
          "output_type": "stream",
          "name": "stdout",
          "text": [
            "hola mundo\n"
          ]
        }
      ]
    },
    {
      "cell_type": "code",
      "source": [
        "#P2\n",
        "r = float( input(\"Ingrese el radio: \") )\n",
        "a = 3.14 * (r**2)\n",
        "print(\"El area del circulo es\", a)"
      ],
      "metadata": {
        "colab": {
          "base_uri": "https://localhost:8080/"
        },
        "id": "6XSFWiWZDLoQ",
        "outputId": "f0f0602c-11f1-40c5-93b9-99aa8d3c887b"
      },
      "execution_count": 2,
      "outputs": [
        {
          "output_type": "stream",
          "name": "stdout",
          "text": [
            "Ingrese el radio: 2\n",
            "El area del circulo es 12.56\n"
          ]
        }
      ]
    },
    {
      "cell_type": "code",
      "source": [
        "#P3\n",
        "n1 = float( input(\"Ingrese el primer numero: \") )\n",
        "n2 = float( input(\"Ingrese el segundo numero: \") )\n",
        "if n1>n2:\n",
        "    print(\"n1 es mayor\")\n",
        "else:\n",
        "    print(\"n2 es mayor\")"
      ],
      "metadata": {
        "colab": {
          "base_uri": "https://localhost:8080/"
        },
        "id": "LemgzF7UEekk",
        "outputId": "91fa4a40-8812-4ce7-cf4e-65a4242a153d"
      },
      "execution_count": 3,
      "outputs": [
        {
          "output_type": "stream",
          "name": "stdout",
          "text": [
            "Ingrese el primer numero: -1\n",
            "Ingrese el segundo numero: 1\n",
            "n2 es mayor\n"
          ]
        }
      ]
    },
    {
      "cell_type": "code",
      "source": [
        "#P4\n",
        "n = float( input(\"Ingrese el primer numero: \") )\n",
        "if n==0:\n",
        "    print(\"n es cero\")\n",
        "elif n<0:\n",
        "    print(\"n es menor a cero\")\n",
        "else:\n",
        "    print(\"n es mayor a cero\")"
      ],
      "metadata": {
        "colab": {
          "base_uri": "https://localhost:8080/"
        },
        "id": "5LjU4_kqE6b1",
        "outputId": "93f04d42-6888-4479-c1df-53aecff6d5ce"
      },
      "execution_count": 4,
      "outputs": [
        {
          "output_type": "stream",
          "name": "stdout",
          "text": [
            "Ingrese el primer numero: 1\n",
            "n es mayor a cero\n"
          ]
        }
      ]
    },
    {
      "cell_type": "code",
      "source": [
        "#P5\n",
        "v = [1,2,10,5,4]\n",
        "s = 0\n",
        "for i in v:\n",
        "    if (i%2)==0:\n",
        "        s = s + i\n",
        "print(s)"
      ],
      "metadata": {
        "colab": {
          "base_uri": "https://localhost:8080/"
        },
        "id": "KQSoK3eSFScc",
        "outputId": "63055803-b565-4a32-def5-874405213aa5"
      },
      "execution_count": 5,
      "outputs": [
        {
          "output_type": "stream",
          "name": "stdout",
          "text": [
            "16\n"
          ]
        }
      ]
    }
  ]
}