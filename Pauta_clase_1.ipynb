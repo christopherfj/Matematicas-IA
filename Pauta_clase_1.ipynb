{
  "nbformat": 4,
  "nbformat_minor": 0,
  "metadata": {
    "colab": {
      "provenance": [],
      "authorship_tag": "ABX9TyNjnUV5zVH49EGYNme41aGo"
    },
    "kernelspec": {
      "name": "python3",
      "display_name": "Python 3"
    },
    "language_info": {
      "name": "python"
    }
  },
  "cells": [
    {
      "cell_type": "code",
      "source": [
        "print(\"hola mundo\")"
      ],
      "metadata": {
        "colab": {
          "base_uri": "https://localhost:8080/"
        },
        "id": "f8hSEA-KC3Xm",
        "outputId": "91c942a6-01d5-4c38-c2e9-751ccfb29700"
      },
      "execution_count": null,
      "outputs": [
        {
          "output_type": "stream",
          "name": "stdout",
          "text": [
            "hola mundo\n"
          ]
        }
      ]
    },
    {
      "cell_type": "code",
      "source": [
        "r = float( input(\"Ingrese el radio: \") )\n",
        "a = 3.14 * (r**2)\n",
        "print(\"El area del circulo es\", a)"
      ],
      "metadata": {
        "colab": {
          "base_uri": "https://localhost:8080/"
        },
        "id": "6XSFWiWZDLoQ",
        "outputId": "f6d9e903-4b28-4551-cf59-a91b57319ebc"
      },
      "execution_count": null,
      "outputs": [
        {
          "output_type": "stream",
          "name": "stdout",
          "text": [
            "Ingrese el radio: 2\n",
            "El area del circulo es 12.56\n"
          ]
        }
      ]
    },
    {
      "cell_type": "code",
      "source": [
        "n1 = float( input(\"Ingrese el primer numero: \") )\n",
        "n2 = float( input(\"Ingrese el segundo numero: \") )\n",
        "if n1>n2:\n",
        "    print(\"n1 es mayor\")\n",
        "else:\n",
        "    print(\"n2 es mayor\")"
      ],
      "metadata": {
        "colab": {
          "base_uri": "https://localhost:8080/"
        },
        "id": "LemgzF7UEekk",
        "outputId": "74bf09fa-850c-4142-e270-84ad7e1b7742"
      },
      "execution_count": null,
      "outputs": [
        {
          "output_type": "stream",
          "name": "stdout",
          "text": [
            "Ingrese el primer numero: 2\n",
            "Ingrese el segundo numero: 5\n",
            "n2 es mayor\n"
          ]
        }
      ]
    },
    {
      "cell_type": "code",
      "source": [
        "n = float( input(\"Ingrese el primer numero: \") )\n",
        "if n==0:\n",
        "    print(\"n es cero\")\n",
        "elif n<0:\n",
        "    print(\"n es menor a cero\")\n",
        "else:\n",
        "    print(\"n es mayor a cero\")"
      ],
      "metadata": {
        "colab": {
          "base_uri": "https://localhost:8080/"
        },
        "id": "5LjU4_kqE6b1",
        "outputId": "11a18e1b-ad02-421a-da57-3fedb4869b77"
      },
      "execution_count": null,
      "outputs": [
        {
          "output_type": "stream",
          "name": "stdout",
          "text": [
            "Ingrese el primer numero: 0\n",
            "n es cero\n"
          ]
        }
      ]
    },
    {
      "cell_type": "code",
      "source": [
        "v = [1,2,10,5,4]\n",
        "s = 0\n",
        "for i in v:\n",
        "    if (i%2)==0:\n",
        "        s = s + i\n",
        "print(s)"
      ],
      "metadata": {
        "colab": {
          "base_uri": "https://localhost:8080/"
        },
        "id": "KQSoK3eSFScc",
        "outputId": "50811aad-3a04-4eaf-b6e6-e18b17354f9d"
      },
      "execution_count": null,
      "outputs": [
        {
          "output_type": "stream",
          "name": "stdout",
          "text": [
            "16\n"
          ]
        }
      ]
    }
  ]
}